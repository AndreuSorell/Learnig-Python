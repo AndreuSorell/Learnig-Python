{
 "cells": [
  {
   "cell_type": "code",
   "execution_count": 22,
   "metadata": {},
   "outputs": [
    {
     "data": {
      "text/plain": [
       "[]"
      ]
     },
     "execution_count": 22,
     "metadata": {},
     "output_type": "execute_result"
    }
   ],
   "source": [
    "def goose_filter(birds):\n",
    "    geese = [\"African\", \"Roman Tufted\", \"Toulouse\", \"Pilgrim\", \"Steinbacher\"]\n",
    "    l = []\n",
    "    for bird in birds:\n",
    "        if not bird in geese:\n",
    "            l.append(bird)\n",
    "    return l\n",
    "\n",
    "\n",
    "\n",
    "    \n",
    "goose_filter([\"Mallard\", \"Hook Bill\", \"African\", \"Crested\", \"Pilgrim\", \"Toulouse\", \"Blue Swedish\"])\n",
    "#[\"Mallard\", \"Hook Bill\", \"Crested\", \"Blue Swedish\"])\n",
    "goose_filter([\"Mallard\", \"Barbary\", \"Hook Bill\", \"Blue Swedish\", \"Crested\"])\n",
    "#[\"Mallard\", \"Barbary\", \"Hook Bill\", \"Blue Swedish\", \"Crested\"]\n",
    "goose_filter([\"African\", \"Roman Tufted\", \"Toulouse\", \"Pilgrim\", \"Steinbacher\"])\n",
    "#[]"
   ]
  },
  {
   "cell_type": "code",
   "execution_count": 34,
   "metadata": {},
   "outputs": [
    {
     "data": {
      "text/plain": [
       "'TAACG'"
      ]
     },
     "execution_count": 34,
     "metadata": {},
     "output_type": "execute_result"
    }
   ],
   "source": [
    "def DNA_strand(dna):\n",
    "    l = list(dna)\n",
    "    b = []\n",
    "    for element in l:\n",
    "        if element == 'A':\n",
    "            b.append('T')\n",
    "        elif element == 'T':\n",
    "            b.append('A')\n",
    "        elif element == 'C':\n",
    "            b.append('G')\n",
    "        else:\n",
    "            b.append('C')\n",
    "    return \"\".join(b)\n",
    "#podria haber creado un acumulador vacío de string \"\" y así no hubiera tenido que pasar a lista ni luego volver a str.\n",
    "\"\"\" acumulador = \"\" \n",
    "    ...\n",
    "    if element == 'A'\n",
    "        acumulador = acumulador + 'T'\n",
    "\"\"\"\n",
    "\n",
    "DNA_strand(\"AAAA\")\n",
    "#\"TTTT\",\"String AAAA is\"\n",
    "DNA_strand(\"ATTGC\")\n",
    "\n",
    "#una mejor solución sería crear un diccionario:\n",
    "d = {'A': 'T', 'T': 'A', 'C': 'G', 'G': 'C'}\n",
    "def DNA_strand(dna):\n",
    "    return ''.join([d[x] for x in dna])\n",
    "\n",
    "DNA_strand(\"ATTGC\")\n",
    "\n",
    "\n"
   ]
  },
  {
   "cell_type": "code",
   "execution_count": 42,
   "metadata": {},
   "outputs": [
    {
     "data": {
      "text/plain": [
       "['Ryan', 'Mark']"
      ]
     },
     "execution_count": 42,
     "metadata": {},
     "output_type": "execute_result"
    }
   ],
   "source": [
    "#def friend(x):\n",
    "#    l = []\n",
    "#    for string in x:\n",
    "#        if len(string) == 4:\n",
    "#            l.append(string)\n",
    "#    return l\n",
    "\n",
    "def friend(x):\n",
    "    return [string for string in x if len(string) == 4]\n",
    "\n",
    "\n",
    "friend([\"Ryan\", \"Kieran\", \"Mark\",])\n",
    "#[\"Ryan\", \"Mark\"]"
   ]
  },
  {
   "cell_type": "code",
   "execution_count": 100,
   "metadata": {},
   "outputs": [
    {
     "ename": "IndexError",
     "evalue": "string index out of range",
     "output_type": "error",
     "traceback": [
      "\u001b[1;31m---------------------------------------------------------------------------\u001b[0m",
      "\u001b[1;31mIndexError\u001b[0m                                Traceback (most recent call last)",
      "\u001b[1;32m~\\AppData\\Local\\Temp/ipykernel_14720/3674986125.py\u001b[0m in \u001b[0;36m<module>\u001b[1;34m\u001b[0m\n\u001b[0;32m     24\u001b[0m \u001b[1;33m\u001b[0m\u001b[0m\n\u001b[0;32m     25\u001b[0m \u001b[1;33m\u001b[0m\u001b[0m\n\u001b[1;32m---> 26\u001b[1;33m \u001b[0mlast\u001b[0m\u001b[1;33m(\u001b[0m\u001b[1;34m\"man i need a taxi up to ubud\"\u001b[0m\u001b[1;33m)\u001b[0m\u001b[1;33m\u001b[0m\u001b[1;33m\u001b[0m\u001b[0m\n\u001b[0m\u001b[0;32m     27\u001b[0m \u001b[1;31m#[\"a\", \"need\", \"ubud\", \"i\", \"taxi\", \"man\", \"to\", \"up\"]\u001b[0m\u001b[1;33m\u001b[0m\u001b[1;33m\u001b[0m\u001b[1;33m\u001b[0m\u001b[0m\n\u001b[0;32m     28\u001b[0m \u001b[1;31m#last(\"take bintang and a dance please\")\u001b[0m\u001b[1;33m\u001b[0m\u001b[1;33m\u001b[0m\u001b[1;33m\u001b[0m\u001b[0m\n",
      "\u001b[1;32m~\\AppData\\Local\\Temp/ipykernel_14720/3674986125.py\u001b[0m in \u001b[0;36mlast\u001b[1;34m(s)\u001b[0m\n\u001b[0;32m     12\u001b[0m             \u001b[1;32mif\u001b[0m \u001b[0mchar\u001b[0m \u001b[1;33m==\u001b[0m \u001b[0mpalabra\u001b[0m\u001b[1;33m[\u001b[0m\u001b[1;33m-\u001b[0m\u001b[1;36m1\u001b[0m\u001b[1;33m]\u001b[0m\u001b[1;33m:\u001b[0m\u001b[1;33m\u001b[0m\u001b[1;33m\u001b[0m\u001b[0m\n\u001b[0;32m     13\u001b[0m                 \u001b[0mlista_ordenada\u001b[0m\u001b[1;33m.\u001b[0m\u001b[0mappend\u001b[0m\u001b[1;33m(\u001b[0m\u001b[0mpalabra\u001b[0m\u001b[1;33m)\u001b[0m\u001b[1;33m\u001b[0m\u001b[1;33m\u001b[0m\u001b[0m\n\u001b[1;32m---> 14\u001b[1;33m                 \u001b[0mpalabras\u001b[0m\u001b[1;33m.\u001b[0m\u001b[0mpop\u001b[0m\u001b[1;33m(\u001b[0m\u001b[0mpalabra\u001b[0m\u001b[1;33m[\u001b[0m\u001b[0mi\u001b[0m\u001b[1;33m]\u001b[0m\u001b[1;33m)\u001b[0m\u001b[1;33m\u001b[0m\u001b[1;33m\u001b[0m\u001b[0m\n\u001b[0m\u001b[0;32m     15\u001b[0m                 \u001b[1;32mbreak\u001b[0m\u001b[1;33m\u001b[0m\u001b[1;33m\u001b[0m\u001b[0m\n\u001b[0;32m     16\u001b[0m             \u001b[0mi\u001b[0m \u001b[1;33m=\u001b[0m \u001b[0mi\u001b[0m \u001b[1;33m+\u001b[0m \u001b[1;36m1\u001b[0m\u001b[1;33m\u001b[0m\u001b[1;33m\u001b[0m\u001b[0m\n",
      "\u001b[1;31mIndexError\u001b[0m: string index out of range"
     ]
    }
   ],
   "source": [
    "def last(s):\n",
    "    palabras = s.split()\n",
    "    lista1 = []\n",
    "    for palabra in palabras:\n",
    "        lista1.append(palabra[-1])\n",
    "    cadena_ordenada = sorted(lista1)\n",
    "    \n",
    "    lista_ordenada = []\n",
    "    for palabra in palabras:\n",
    "        i = 0\n",
    "        for char in cadena_ordenada:\n",
    "            if char == palabra[-1]:\n",
    "                lista_ordenada.append(palabra)\n",
    "                palabras.pop(palabra[i])\n",
    "                break\n",
    "            i = i + 1\n",
    "    return lista_ordenada\n",
    "\n",
    "            \n",
    "            \n",
    "\n",
    "\n",
    "    return lista_ordenada\n",
    "\n",
    "\n",
    "last(\"man i need a taxi up to ubud\")\n",
    "#[\"a\", \"need\", \"ubud\", \"i\", \"taxi\", \"man\", \"to\", \"up\"]\n",
    "#last(\"take bintang and a dance please\")\n",
    "#[\"a\", \"and\", \"take\", \"dance\", \"please\", \"bintang\"]"
   ]
  },
  {
   "cell_type": "code",
   "execution_count": 97,
   "metadata": {},
   "outputs": [
    {
     "name": "stdout",
     "output_type": "stream",
     "text": [
      "['massage', 'yes', 'massage', 'yes', 'massage']\n",
      "['e', 's', 'e', 's', 'e']\n",
      "{'massage': 'e', 'yes': 's'}\n",
      "[('massage', 'e'), ('yes', 's')]\n"
     ]
    },
    {
     "data": {
      "text/plain": [
       "['massage', 'yes']"
      ]
     },
     "execution_count": 97,
     "metadata": {},
     "output_type": "execute_result"
    }
   ],
   "source": [
    "def last(s):\n",
    "    palabras = s.split()\n",
    "    lista1 = []\n",
    "    for palabra in palabras:\n",
    "        lista1.append(palabra[-1])\n",
    "    print(palabras)\n",
    "    print(lista1)\n",
    "    #D = dict(zip(lista1, palabras))\n",
    "    #print(D)\n",
    "    D = dict(zip(palabras, lista1))\n",
    "    print(D)\n",
    "    dicc_ordenado = sorted(D.items(), key=lambda x: x[1])\n",
    "    print(dicc_ordenado)\n",
    "    lista2 = []\n",
    "    for p in dicc_ordenado:\n",
    "        lista2.append(p[0])\n",
    "    return lista2\n",
    "    \n",
    "\n",
    "last(\"massage yes massage yes massage\")\n",
    "#[\"massage\", \"massage\", \"massage\", \"yes\", \"yes\"]\n",
    "#last(\"man i need a taxi up to ubud\")\n",
    "#[\"a\", \"need\", \"ubud\", \"i\", \"taxi\", \"man\", \"to\", \"up\"]\n",
    "#last(\"take bintang and a dance please\")\n",
    "#[\"a\", \"and\", \"take\", \"dance\", \"please\", \"bintang\"]"
   ]
  },
  {
   "cell_type": "code",
   "execution_count": 104,
   "metadata": {},
   "outputs": [
    {
     "data": {
      "text/plain": [
       "'((('"
      ]
     },
     "execution_count": 104,
     "metadata": {},
     "output_type": "execute_result"
    }
   ],
   "source": [
    "def duplicate_encode(word):\n",
    "    lower_word = word.lower()\n",
    "    d = {}\n",
    "    for char in lower_word:\n",
    "        if not char in d:\n",
    "            d[char] = '('\n",
    "    return ''.join(d.values())\n",
    "\n",
    "\n",
    "duplicate_encode(\"din\")"
   ]
  },
  {
   "cell_type": "code",
   "execution_count": 126,
   "metadata": {},
   "outputs": [
    {
     "data": {
      "text/plain": [
       "')())())'"
      ]
     },
     "execution_count": 126,
     "metadata": {},
     "output_type": "execute_result"
    }
   ],
   "source": [
    "def duplicate_encode(word):\n",
    "    lower_word = word.lower()\n",
    "    d = {}\n",
    "    for char in lower_word:\n",
    "        if not char in d:\n",
    "            d[char] = '('\n",
    "        else:\n",
    "            d[char] = ')'\n",
    "    return ''.join([d[char] for char in lower_word])\n",
    "\n",
    "duplicate_encode(\"recede\")\n",
    "#\"()()()\"\n",
    "duplicate_encode(\"Success\")\n",
    "#\")())())\",\"should ignore case\")\n",
    "#duplicate_encode(\"(( @\")\n",
    "#\"))((\")"
   ]
  },
  {
   "cell_type": "code",
   "execution_count": 128,
   "metadata": {},
   "outputs": [],
   "source": [
    "def loose_change(cents):\n",
    "    keys = ['Quarters','Dimes','Nickels', 'Pennies']\n",
    "    values = [25, 10, 5, 1]\n",
    "    newD = {'Nickels': 0, 'Pennies': 0, 'Dimes': 0, 'Quarters': 0}\n",
    "    centimos = 0\n",
    "    centimos += cents\n",
    "    dividedCents = 0\n",
    "    dividedCents += cents\n",
    "    number = 0\n",
    "    for valor in values:\n",
    "        if centimos >= valor:\n",
    "            dividedCents = centimos//valor\n",
    "            centimos = centimos%valor\n",
    "            newD[keys[number]] = dividedCents\n",
    "        number += 1\n",
    "    return newD\n",
    "\n",
    "    loose_change(29)\n",
    "    #{'Nickels': 0, 'Pennies': 4, 'Dimes': 0, 'Quarters': 1})"
   ]
  }
 ],
 "metadata": {
  "interpreter": {
   "hash": "caaa11bafb666adcceae752c678ed47f2c110c1f32e55af750e2c9564a869d5b"
  },
  "kernelspec": {
   "display_name": "Python 3.9.6 64-bit",
   "language": "python",
   "name": "python3"
  },
  "language_info": {
   "codemirror_mode": {
    "name": "ipython",
    "version": 3
   },
   "file_extension": ".py",
   "mimetype": "text/x-python",
   "name": "python",
   "nbconvert_exporter": "python",
   "pygments_lexer": "ipython3",
   "version": "3.9.6"
  },
  "orig_nbformat": 4
 },
 "nbformat": 4,
 "nbformat_minor": 2
}
