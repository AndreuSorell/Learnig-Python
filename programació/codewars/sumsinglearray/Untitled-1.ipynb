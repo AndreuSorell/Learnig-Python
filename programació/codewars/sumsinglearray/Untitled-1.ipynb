{
 "cells": [
  {
   "cell_type": "code",
   "execution_count": 6,
   "metadata": {},
   "outputs": [
    {
     "data": {
      "text/plain": [
       "15"
      ]
     },
     "execution_count": 6,
     "metadata": {},
     "output_type": "execute_result"
    }
   ],
   "source": [
    "def repeats(arr):\n",
    "    sum = 0\n",
    "    for num in arr:\n",
    "        if arr.count(num) == 1:\n",
    "            sum = sum + num\n",
    "            #sum += num es lo mateix\n",
    "\n",
    "    return sum\n",
    "        \n",
    "\n",
    "repeats([4, 5, 7, 5, 4, 8,])"
   ]
  }
 ],
 "metadata": {
  "interpreter": {
   "hash": "caaa11bafb666adcceae752c678ed47f2c110c1f32e55af750e2c9564a869d5b"
  },
  "kernelspec": {
   "display_name": "Python 3.9.6 64-bit",
   "name": "python3"
  },
  "language_info": {
   "codemirror_mode": {
    "name": "ipython",
    "version": 3
   },
   "file_extension": ".py",
   "mimetype": "text/x-python",
   "name": "python",
   "nbconvert_exporter": "python",
   "pygments_lexer": "ipython3",
   "version": "3.9.6"
  },
  "orig_nbformat": 4
 },
 "nbformat": 4,
 "nbformat_minor": 2
}
