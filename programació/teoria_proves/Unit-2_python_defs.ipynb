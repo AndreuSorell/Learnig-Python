{
 "cells": [
  {
   "cell_type": "code",
   "execution_count": null,
   "metadata": {},
   "outputs": [],
   "source": [
    "def sum(a, b):\n",
    "    print ('enter sum')\n",
    "    print ('a is', a)\n",
    "    a = a + b\n",
    "    print ('a is', a)\n",
    "    return a\n",
    "\n",
    "print (sum(2, 3))"
   ]
  },
  {
   "cell_type": "code",
   "execution_count": null,
   "metadata": {},
   "outputs": [
    {
     "name": "stdout",
     "output_type": "stream",
     "text": [
      "5\n",
      "2\n"
     ]
    }
   ],
   "source": [
    "def sum(a, b):\n",
    "    a = a + b\n",
    "    return a\n",
    "a = 2\n",
    "b = 3\n",
    "print (sum(a, b))\n",
    "print (a)"
   ]
  },
  {
   "cell_type": "code",
   "execution_count": null,
   "metadata": {},
   "outputs": [
    {
     "name": "stdout",
     "output_type": "stream",
     "text": [
      "ajjbjhg\n",
      "2\n"
     ]
    }
   ],
   "source": [
    "def sum(a, b):\n",
    "    a = a + b\n",
    "    return a\n",
    "\n",
    "print (sum('ajj', 'bjhg'))\n",
    "print (a)"
   ]
  },
  {
   "cell_type": "code",
   "execution_count": null,
   "metadata": {},
   "outputs": [
    {
     "name": "stdout",
     "output_type": "stream",
     "text": [
      "625\n"
     ]
    }
   ],
   "source": [
    "def square(n):\n",
    "    x = n * n\n",
    "    return x\n",
    "print (square(square(5)))"
   ]
  },
  {
   "cell_type": "code",
   "execution_count": null,
   "metadata": {},
   "outputs": [
    {
     "name": "stdout",
     "output_type": "stream",
     "text": [
      "25\n"
     ]
    }
   ],
   "source": [
    "def square(a):\n",
    "    return a * a\n",
    "x = 5\n",
    "print (square(x))"
   ]
  },
  {
   "cell_type": "code",
   "execution_count": null,
   "metadata": {},
   "outputs": [
    {
     "name": "stdout",
     "output_type": "stream",
     "text": [
      "6\n"
     ]
    }
   ],
   "source": [
    "def sum3(a, b, c):\n",
    "    return a + b + c\n",
    "print (sum3(1, 2, 3))"
   ]
  },
  {
   "cell_type": "code",
   "execution_count": null,
   "metadata": {},
   "outputs": [
    {
     "name": "stdout",
     "output_type": "stream",
     "text": [
      "abba\n",
      "dogcatcatdog\n"
     ]
    }
   ],
   "source": [
    "def abbaize(a, b):\n",
    "    return a + b + b + a\n",
    "print (abbaize('a', 'b'))\n",
    "print (abbaize('dog', 'cat'))\n"
   ]
  },
  {
   "cell_type": "code",
   "execution_count": null,
   "metadata": {},
   "outputs": [
    {
     "name": "stdout",
     "output_type": "stream",
     "text": [
      "25\n"
     ]
    }
   ],
   "source": [
    "def find_second(a, b):\n",
    "    first = a.find (b)\n",
    "    second = a.find (b, first + 1)\n",
    "    return second\n",
    "\n",
    "danton = \"De l'audace, encore de l'audace, tou...\"\n",
    "\n",
    "print (find_second(danton, 'audace'))"
   ]
  },
  {
   "cell_type": "code",
   "execution_count": null,
   "metadata": {},
   "outputs": [
    {
     "name": "stdout",
     "output_type": "stream",
     "text": [
      "True\n"
     ]
    }
   ],
   "source": [
    "#boolean\n",
    "print (3<=3)"
   ]
  },
  {
   "cell_type": "code",
   "execution_count": null,
   "metadata": {},
   "outputs": [
    {
     "name": "stdout",
     "output_type": "stream",
     "text": [
      "44\n"
     ]
    }
   ],
   "source": [
    "#conditionl\n",
    "def bigger(a, b):\n",
    "    if a <= b:\n",
    "        a = b\n",
    "    return a\n",
    "print (bigger(4, 44))\n"
   ]
  },
  {
   "cell_type": "code",
   "execution_count": null,
   "metadata": {},
   "outputs": [
    {
     "name": "stdout",
     "output_type": "stream",
     "text": [
      "5\n"
     ]
    }
   ],
   "source": [
    "def bigger(a, b):\n",
    "    if a > b:\n",
    "        return a\n",
    "    return b\n",
    "print (bigger(5, 4))"
   ]
  },
  {
   "cell_type": "code",
   "execution_count": null,
   "metadata": {},
   "outputs": [
    {
     "name": "stdout",
     "output_type": "stream",
     "text": [
      "44\n"
     ]
    }
   ],
   "source": [
    "def bigger(a, b):\n",
    "    if a > b:\n",
    "        return a\n",
    "    else:\n",
    "        return b\n",
    "print (bigger(4, 44))"
   ]
  },
  {
   "cell_type": "code",
   "execution_count": null,
   "metadata": {},
   "outputs": [
    {
     "name": "stdout",
     "output_type": "stream",
     "text": [
      "4\n"
     ]
    }
   ],
   "source": [
    "def bigger(a, b):\n",
    "    if a > b:\n",
    "        r = a\n",
    "    else:\n",
    "        r = b\n",
    "    return r\n",
    "print (bigger(4, 3))"
   ]
  },
  {
   "cell_type": "code",
   "execution_count": null,
   "metadata": {},
   "outputs": [
    {
     "name": "stdout",
     "output_type": "stream",
     "text": [
      "True\n",
      "False\n"
     ]
    }
   ],
   "source": [
    "def is_friend(name):\n",
    "    return name[0] == 'D'\n",
    "        \n",
    "\n",
    "print (is_friend('Diane'))\n",
    "print (is_friend('Fred'))"
   ]
  },
  {
   "cell_type": "code",
   "execution_count": null,
   "metadata": {},
   "outputs": [
    {
     "name": "stdout",
     "output_type": "stream",
     "text": [
      "True\n",
      "True\n",
      "False\n"
     ]
    }
   ],
   "source": [
    "def is_friend(name):\n",
    "    if name[0] == 'D':\n",
    "        return True\n",
    "    if name[0] == 'F':\n",
    "        return True\n",
    "    else:\n",
    "        return False\n",
    "        \n",
    "\n",
    "print (is_friend('Diane'))\n",
    "print (is_friend('Fred'))\n",
    "print (is_friend('Ned'))\n"
   ]
  },
  {
   "cell_type": "code",
   "execution_count": null,
   "metadata": {},
   "outputs": [
    {
     "name": "stdout",
     "output_type": "stream",
     "text": [
      "True\n",
      "True\n",
      "False\n"
     ]
    }
   ],
   "source": [
    "def is_friend(name):\n",
    "    if name[0] == 'D':\n",
    "        return True\n",
    "    else:\n",
    "        if name[0] == 'F':\n",
    "            return True\n",
    "        else:\n",
    "            return False\n",
    "        \n",
    "\n",
    "print (is_friend('Diane'))\n",
    "print (is_friend('Fred'))\n",
    "print (is_friend('Ned'))"
   ]
  },
  {
   "cell_type": "code",
   "execution_count": null,
   "metadata": {},
   "outputs": [
    {
     "name": "stdout",
     "output_type": "stream",
     "text": [
      "True\n",
      "True\n"
     ]
    }
   ],
   "source": [
    "def is_friend(name):\n",
    "    return name[0] == 'D' or name[0] == 'F'\n",
    "        \n",
    "\n",
    "print (is_friend('Diane'))\n",
    "print (is_friend('Fred'))"
   ]
  },
  {
   "cell_type": "code",
   "execution_count": 4,
   "metadata": {},
   "outputs": [
    {
     "name": "stdout",
     "output_type": "stream",
     "text": [
      "6\n",
      "7\n",
      "9\n"
     ]
    }
   ],
   "source": [
    "def biggest(a, b, c):\n",
    "    if a > b and a > c:\n",
    "        return a\n",
    "    else:\n",
    "        if b > a and b > c:\n",
    "            return b\n",
    "        else:\n",
    "            return c\n",
    "        \n",
    "print (biggest(6, 2, 3))\n",
    "print (biggest(6, 2, 7))\n",
    "print (biggest(6, 9, 7))\n"
   ]
  },
  {
   "cell_type": "code",
   "execution_count": 5,
   "metadata": {},
   "outputs": [
    {
     "name": "stdout",
     "output_type": "stream",
     "text": [
      "0\n",
      "1\n",
      "2\n",
      "3\n",
      "4\n",
      "5\n",
      "6\n",
      "7\n",
      "8\n",
      "9\n"
     ]
    }
   ],
   "source": [
    "#loops\n",
    "i = 0\n",
    "while i != 10:\n",
    "    print (i)\n",
    "    i = i + 1"
   ]
  },
  {
   "cell_type": "code",
   "execution_count": 11,
   "metadata": {},
   "outputs": [
    {
     "name": "stdout",
     "output_type": "stream",
     "text": [
      "1\n",
      "2\n",
      "3\n"
     ]
    }
   ],
   "source": [
    "def print_numbers(input):\n",
    "    n = 0\n",
    "    while n != input:\n",
    "        n = n + 1\n",
    "        print (n)\n",
    "\n",
    "print_numbers(3)\n"
   ]
  },
  {
   "cell_type": "code",
   "execution_count": 19,
   "metadata": {},
   "outputs": [
    {
     "name": "stdout",
     "output_type": "stream",
     "text": [
      "24\n"
     ]
    }
   ],
   "source": [
    "def factorial(n):\n",
    "    result = 1\n",
    "    while n >= 1:\n",
    "        result = result * n\n",
    "        n = n - 1\n",
    "    return result\n",
    "\n",
    "print (factorial(4))"
   ]
  },
  {
   "cell_type": "code",
   "execution_count": 20,
   "metadata": {},
   "outputs": [
    {
     "name": "stdout",
     "output_type": "stream",
     "text": [
      "Udacians\n"
     ]
    }
   ],
   "source": [
    "#ejercicio 1\n",
    "def udacify(string):\n",
    "    return 'U' + string\n",
    "\n",
    "print (udacify('dacians'))"
   ]
  },
  {
   "cell_type": "code",
   "execution_count": 24,
   "metadata": {},
   "outputs": [
    {
     "name": "stdout",
     "output_type": "stream",
     "text": [
      "2\n",
      "6\n",
      "7\n"
     ]
    }
   ],
   "source": [
    "#ej 2\n",
    "def median(a, b, c):\n",
    "    if a > b and a < c:\n",
    "        return a\n",
    "    else:\n",
    "        if a < b and a > c:\n",
    "            return a\n",
    "        else:\n",
    "            if b > a and b < c:\n",
    "                return b\n",
    "            else:\n",
    "                if b < a and b > c:\n",
    "                    return b\n",
    "                return c      \n",
    "\n",
    "print (median(1, 2, 3))\n",
    "print (median(9, 3, 6))\n",
    "print (median(7, 8, 7))\n"
   ]
  },
  {
   "cell_type": "code",
   "execution_count": 27,
   "metadata": {},
   "outputs": [
    {
     "name": "stdout",
     "output_type": "stream",
     "text": [
      "2\n",
      "6\n",
      "7\n"
     ]
    }
   ],
   "source": [
    "def bigger(a, b):\n",
    "    if a > b:\n",
    "        return a\n",
    "    return b\n",
    "\n",
    "def biggest(a, b, c):\n",
    "    return bigger(a, bigger(b,c))\n",
    "\n",
    "def median(a, b, c):\n",
    "    big = biggest(a, b, c)\n",
    "    if big == a:\n",
    "        return bigger(b, c)\n",
    "    if big == b:\n",
    "        return bigger(a, c)\n",
    "    else:\n",
    "        return bigger(a, b)\n",
    "print (median(1, 2, 3))\n",
    "print (median(9, 3, 6))\n",
    "print (median(7, 8, 7))"
   ]
  },
  {
   "cell_type": "code",
   "execution_count": 32,
   "metadata": {},
   "outputs": [
    {
     "name": "stdout",
     "output_type": "stream",
     "text": [
      "3\n",
      "2\n",
      "1\n",
      "Blastoff!\n"
     ]
    }
   ],
   "source": [
    "#ej 4\n",
    "def countdown(n):\n",
    "    while n != 0:\n",
    "        print (n)\n",
    "        n = n - 1\n",
    "        if n == 0:\n",
    "            print ('Blastoff!')\n",
    "        \n",
    "\n",
    "countdown(3)"
   ]
  },
  {
   "cell_type": "code",
   "execution_count": 33,
   "metadata": {},
   "outputs": [
    {
     "name": "stdout",
     "output_type": "stream",
     "text": [
      "3\n",
      "2\n",
      "1\n",
      "Blastoff!\n"
     ]
    }
   ],
   "source": [
    "def countdown(n):\n",
    "    while n > 0:\n",
    "        print (n)\n",
    "        n = n - 1\n",
    "    print ('Blastoff!')\n",
    "        \n",
    "\n",
    "countdown(3)"
   ]
  },
  {
   "cell_type": "code",
   "execution_count": 50,
   "metadata": {},
   "outputs": [
    {
     "name": "stdout",
     "output_type": "stream",
     "text": [
      "16\n"
     ]
    }
   ],
   "source": [
    "#ej 6\n",
    "def find_last(search_string, target_string):\n",
    "    last_pos = -1\n",
    "    while True:\n",
    "        pos = search_string.find(target_string, last_pos + 1)\n",
    "        if pos == -1:\n",
    "            return last_pos\n",
    "        last_pos = pos\n",
    "\n",
    "print (find_last('hola como estas amigo', 'a'))"
   ]
  },
  {
   "cell_type": "code",
   "execution_count": 13,
   "metadata": {},
   "outputs": [
    {
     "name": "stdout",
     "output_type": "stream",
     "text": [
      "11\n",
      "-3\n",
      "25\n",
      "7.0\n",
      "this operator is not defined\n"
     ]
    }
   ],
   "source": [
    "def basic_op(operator, value1, value2):\n",
    "    if operator == '+':\n",
    "        return value1 + value2\n",
    "    if operator == '-':\n",
    "        return value1 - value2\n",
    "    if operator == '*':\n",
    "        return value1 * value2\n",
    "    if operator == '/':\n",
    "        return value1 / value2\n",
    "    return 'this operator is not defined'\n",
    "\n",
    "print(basic_op('+', 4, 7))\n",
    "print(basic_op('-', 15, 18))\n",
    "print(basic_op('*', 5, 5))\n",
    "print(basic_op('/', 49, 7))\n",
    "print(basic_op('**', 49, 7))\n"
   ]
  },
  {
   "cell_type": "code",
   "execution_count": 35,
   "metadata": {},
   "outputs": [
    {
     "name": "stdout",
     "output_type": "stream",
     "text": [
      "the sunset sets at twelve o' clock.\n"
     ]
    }
   ],
   "source": [
    "#Alphabet position\n",
    "\n",
    "def alphabet_position(frase):\n",
    "    minuscules = frase.lower()\n",
    "    print (minuscules)\n",
    "\n",
    "\n",
    "'''\n",
    "Primer he de convertir sa frase d'una manera mes llegitble per es programa, es a dir fora majuscules i sense espais\n",
    "despres si tenc s'abecedari he de mirar quina posisio ocupa es caracter de sa frase \n",
    "\n",
    "'''\n",
    "\n",
    "alphabet_position(\"The sunset sets at twelve o' clock.\")"
   ]
  },
  {
   "cell_type": "code",
   "execution_count": 4,
   "metadata": {},
   "outputs": [
    {
     "name": "stdout",
     "output_type": "stream",
     "text": [
      "The sunset sets at twelve o' clock.\n",
      "Thesunsetsetsattwelveoclock.\n",
      "abcdefghijklmnopqrstuvwxyz\n"
     ]
    }
   ],
   "source": [
    "hola = \"The sunset sets at twelve o' clock.\"\n",
    "print (hola)\n",
    "hola2 = hola.replace(\" \",\"\").replace(\"'\",\"\")\n",
    "print (hola2)\n",
    "import string\n",
    "h = string.ascii_lowercase\n",
    "print (h)\n"
   ]
  }
 ],
 "metadata": {
  "interpreter": {
   "hash": "caaa11bafb666adcceae752c678ed47f2c110c1f32e55af750e2c9564a869d5b"
  },
  "kernelspec": {
   "display_name": "Python 3.9.6 64-bit",
   "name": "python3"
  },
  "language_info": {
   "codemirror_mode": {
    "name": "ipython",
    "version": 3
   },
   "file_extension": ".py",
   "mimetype": "text/x-python",
   "name": "python",
   "nbconvert_exporter": "python",
   "pygments_lexer": "ipython3",
   "version": "3.9.6"
  },
  "orig_nbformat": 4
 },
 "nbformat": 4,
 "nbformat_minor": 2
}
