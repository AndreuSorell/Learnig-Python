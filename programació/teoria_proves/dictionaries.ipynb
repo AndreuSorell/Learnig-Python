{
 "cells": [
  {
   "cell_type": "code",
   "execution_count": 3,
   "metadata": {},
   "outputs": [
    {
     "name": "stdout",
     "output_type": "stream",
     "text": [
      "{'name': 'bob', 'job': 'driver', 'age': 23}\n",
      "23\n"
     ]
    }
   ],
   "source": [
    "d = {}\n",
    "d['name'] = 'bob'\n",
    "d['job'] = 'driver'\n",
    "d['age'] = 23\n",
    "print(d)\n",
    "print(d['age'])"
   ]
  },
  {
   "cell_type": "code",
   "execution_count": 5,
   "metadata": {},
   "outputs": [
    {
     "name": "stdout",
     "output_type": "stream",
     "text": [
      "{'name': 'bob', 'job': 'driver', 'age': 23}\n",
      "{'name': 'bob', 'job': 'driver', 'age': 23}\n"
     ]
    }
   ],
   "source": [
    "#funcio 'dict'\n",
    "bob1 = dict(name='bob', job='driver', age=23)\n",
    "print(bob1)\n",
    "#funcio 'zip'\n",
    "bob2 = dict(zip(['name', 'job', 'age'], ['bob', 'driver', 23]))\n",
    "print(bob2)"
   ]
  },
  {
   "cell_type": "code",
   "execution_count": 15,
   "metadata": {},
   "outputs": [
    {
     "name": "stdout",
     "output_type": "stream",
     "text": [
      "{'first': 'bob', 'last': 'smith'}\n",
      "smith\n",
      "['driver', 'delivery']\n",
      "driver\n"
     ]
    },
    {
     "data": {
      "text/plain": [
       "{'name': {'first': 'bob', 'last': 'smith'},\n",
       " 'job': ['driver', 'delivery', 'janitor'],\n",
       " 'age': 23}"
      ]
     },
     "execution_count": 15,
     "metadata": {},
     "output_type": "execute_result"
    }
   ],
   "source": [
    "d = {'name': {'first': 'bob', 'last': 'smith'}, 'job': ['driver', 'delivery'], 'age': 23}\n",
    "print(d['name'])\n",
    "print(d['name']['last'])\n",
    "print(d['job'])\n",
    "print(d['job'][0])\n",
    "d['job'].append('janitor')\n",
    "d\n"
   ]
  },
  {
   "cell_type": "code",
   "execution_count": 22,
   "metadata": {},
   "outputs": [
    {
     "name": "stdout",
     "output_type": "stream",
     "text": [
      "{'a': 1, 'b': 2, 'c': 3}\n",
      "True\n",
      "False\n",
      "no hi es\n",
      "si sa compleix sa condicio, pots imprimir lo que vulguis\n"
     ]
    }
   ],
   "source": [
    "d = {'a': 1, 'b': 2}\n",
    "d['c'] = 3\n",
    "print(d)\n",
    "print('c' in d)\n",
    "print('d' in d)\n",
    "if not 'd' in d:\n",
    "    print('no hi es')\n",
    "    print('si sa compleix sa condicio, pots imprimir lo que vulguis')"
   ]
  },
  {
   "cell_type": "code",
   "execution_count": 35,
   "metadata": {},
   "outputs": [
    {
     "name": "stdout",
     "output_type": "stream",
     "text": [
      "4\n",
      "0\n",
      "0\n"
     ]
    }
   ],
   "source": [
    "#Maneras de retornar un valor\n",
    "d = {'a': 1, 'b': 2}\n",
    "value = d.get('f', 4)\n",
    "print(value)\n",
    "value = d['f'] if 'f' in d else 0\n",
    "print(value)\n",
    "if 'f' in d:\n",
    "    print(d['f'])\n",
    "else:\n",
    "    print(0)\n"
   ]
  },
  {
   "cell_type": "code",
   "execution_count": 47,
   "metadata": {},
   "outputs": [
    {
     "name": "stdout",
     "output_type": "stream",
     "text": [
      "['a', 'c', 'b']\n",
      "['a', 'b', 'c']\n",
      "a -> 1\n",
      "b -> 2\n",
      "c -> 3\n",
      "['a', 'b', 'c']\n",
      "a -> 1\n",
      "b -> 2\n",
      "c -> 3\n",
      "[1, 3, 2]\n",
      "[1, 2, 3]\n"
     ]
    }
   ],
   "source": [
    "#Ordenar las llaves de un dict\n",
    "d = {'a': 1, 'c': 3, 'b': 2}\n",
    "claus = list(d.keys())\n",
    "print(claus)\n",
    "claus.sort()\n",
    "print(claus)\n",
    "for key in claus:\n",
    "    print(key, '->', d[key])\n",
    "\n",
    "#Es mas eficaz ordenarlo con la funcion sorted\n",
    "diccOrdenat = sorted(d)\n",
    "print(diccOrdenat)\n",
    "\n",
    "for key in sorted(d):\n",
    "    print(key, '->', d[key])\n",
    "\n",
    "\n",
    "#Puedes hacer lo mismo con los valores\n",
    "d = {'a': 1, 'c': 3, 'b': 2}\n",
    "valores = list(d.values())\n",
    "print(valores)\n",
    "valores.sort()\n",
    "print(valores)"
   ]
  },
  {
   "cell_type": "code",
   "execution_count": 53,
   "metadata": {},
   "outputs": [
    {
     "name": "stdout",
     "output_type": "stream",
     "text": [
      "[1, 4, 9, 16, 25]\n"
     ]
    },
    {
     "data": {
      "text/plain": [
       "[1, 4, 9, 16, 25]"
      ]
     },
     "execution_count": 53,
     "metadata": {},
     "output_type": "execute_result"
    }
   ],
   "source": [
    "#Forma difarent de fer un for\n",
    "#NO TE RES QUE VEURE AMB ES DICTs\n",
    "\n",
    "l = [1, 2, 3, 4, 5]\n",
    "\n",
    "squares = []\n",
    "for n in l:\n",
    "    squares.append(n**2)\n",
    "print(squares)\n",
    "#si aquest resultat el vull en forma de llista, hauria de crearne una de buida i despres indicarli que ha d'anar afagint\n",
    "\n",
    "#per tant una manera mes senzilla de fer-ho es aquesta:\n",
    "alCuadrat = [n**2 for n in l]\n",
    "alCuadrat\n"
   ]
  }
 ],
 "metadata": {
  "interpreter": {
   "hash": "caaa11bafb666adcceae752c678ed47f2c110c1f32e55af750e2c9564a869d5b"
  },
  "kernelspec": {
   "display_name": "Python 3.9.6 64-bit",
   "language": "python",
   "name": "python3"
  },
  "language_info": {
   "codemirror_mode": {
    "name": "ipython",
    "version": 3
   },
   "file_extension": ".py",
   "mimetype": "text/x-python",
   "name": "python",
   "nbconvert_exporter": "python",
   "pygments_lexer": "ipython3",
   "version": "3.9.6"
  },
  "orig_nbformat": 4
 },
 "nbformat": 4,
 "nbformat_minor": 2
}
