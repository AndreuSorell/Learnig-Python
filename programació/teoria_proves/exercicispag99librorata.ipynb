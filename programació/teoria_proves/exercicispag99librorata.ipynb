{
 "cells": [
  {
   "cell_type": "markdown",
   "source": [
    "# strings de python"
   ],
   "metadata": {}
  },
  {
   "cell_type": "code",
   "execution_count": 7,
   "source": [
    "s = \"spam\"\r\n",
    "L = list(s)\r\n",
    "L\r\n",
    "L[1] = 't'\r\n",
    "T = ''.join(L)\r\n",
    "T"
   ],
   "outputs": [
    {
     "output_type": "execute_result",
     "data": {
      "text/plain": [
       "'stam'"
      ]
     },
     "metadata": {},
     "execution_count": 7
    }
   ],
   "metadata": {}
  },
  {
   "cell_type": "code",
   "execution_count": 30,
   "source": [
    "J = bytearray(b'spam')\r\n",
    "J.extend(b'eggs')\r\n",
    "print (J.decode())\r\n",
    "J\r\n"
   ],
   "outputs": [
    {
     "output_type": "stream",
     "name": "stdout",
     "text": [
      "spameggs\n"
     ]
    },
    {
     "output_type": "execute_result",
     "data": {
      "text/plain": [
       "bytearray(b'spameggs')"
      ]
     },
     "metadata": {},
     "execution_count": 30
    }
   ],
   "metadata": {}
  },
  {
   "cell_type": "code",
   "execution_count": 16,
   "source": [
    "S = 'spam'\r\n",
    "print (S.replace('pa', 'ota'))\r\n",
    "S\r\n",
    "print (S)\r\n"
   ],
   "outputs": [
    {
     "output_type": "stream",
     "name": "stdout",
     "text": [
      "sotam\n",
      "spam\n"
     ]
    }
   ],
   "metadata": {}
  },
  {
   "cell_type": "code",
   "execution_count": 31,
   "source": [
    "line = 'aaa,. bbb,. ccccc,. dd'\r\n",
    "print (line.split(' '))"
   ],
   "outputs": [
    {
     "output_type": "stream",
     "name": "stdout",
     "text": [
      "['aaa,.', 'bbb,.', 'ccccc,.', 'dd']\n"
     ]
    }
   ],
   "metadata": {}
  },
  {
   "cell_type": "code",
   "execution_count": 40,
   "source": [
    "line = 'aaa,bbb,,ccccc,dd\\n'\r\n",
    "line.rstrip().split(',')\r\n"
   ],
   "outputs": [
    {
     "output_type": "execute_result",
     "data": {
      "text/plain": [
       "['aaa', 'bbb', '', 'ccccc', 'dd']"
      ]
     },
     "metadata": {},
     "execution_count": 40
    }
   ],
   "metadata": {}
  },
  {
   "cell_type": "code",
   "execution_count": 50,
   "source": [
    "'%s, eggs, and %s' % ('spam',0)\r\n",
    "'{1}, eegsd, and {0}'.format('spam','hola')"
   ],
   "outputs": [
    {
     "output_type": "execute_result",
     "data": {
      "text/plain": [
       "'hola, eegsd, and spam'"
      ]
     },
     "metadata": {},
     "execution_count": 50
    }
   ],
   "metadata": {}
  },
  {
   "cell_type": "code",
   "execution_count": 48,
   "source": [
    "'{:,.2f}'.format(296999879.2567)"
   ],
   "outputs": [
    {
     "output_type": "execute_result",
     "data": {
      "text/plain": [
       "'296,999,879.26'"
      ]
     },
     "metadata": {},
     "execution_count": 48
    }
   ],
   "metadata": {}
  }
 ],
 "metadata": {
  "orig_nbformat": 4,
  "language_info": {
   "name": "python",
   "version": "3.9.6",
   "mimetype": "text/x-python",
   "codemirror_mode": {
    "name": "ipython",
    "version": 3
   },
   "pygments_lexer": "ipython3",
   "nbconvert_exporter": "python",
   "file_extension": ".py"
  },
  "kernelspec": {
   "name": "python3",
   "display_name": "Python 3.9.6 64-bit"
  },
  "interpreter": {
   "hash": "caaa11bafb666adcceae752c678ed47f2c110c1f32e55af750e2c9564a869d5b"
  }
 },
 "nbformat": 4,
 "nbformat_minor": 2
}