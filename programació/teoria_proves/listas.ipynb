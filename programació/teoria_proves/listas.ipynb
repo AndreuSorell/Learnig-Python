{
 "cells": [
  {
   "cell_type": "code",
   "execution_count": 7,
   "metadata": {},
   "outputs": [
    {
     "name": "stdout",
     "output_type": "stream",
     "text": [
      "[1, 4] ['c', 'b']\n"
     ]
    }
   ],
   "source": []
  },
  {
   "cell_type": "code",
   "execution_count": 13,
   "metadata": {},
   "outputs": [
    {
     "name": "stdout",
     "output_type": "stream",
     "text": [
      "[0, 0, 8]\n"
     ]
    }
   ],
   "source": [
    "spy = [0, 0, 7]\n",
    "def repalace_spy(p):\n",
    "    p[2] = 8\n",
    "    print (spy)\n",
    "\n",
    "repalace_spy(spy)"
   ]
  },
  {
   "cell_type": "code",
   "execution_count": 30,
   "metadata": {},
   "outputs": [
    {
     "name": "stdout",
     "output_type": "stream",
     "text": [
      "[2, 3, 4, 6]\n",
      "[2, 5, (3, 9)]\n",
      "[2, 5, (3, 9), 4]\n"
     ]
    },
    {
     "data": {
      "text/plain": [
       "3"
      ]
     },
     "execution_count": 30,
     "metadata": {},
     "output_type": "execute_result"
    }
   ],
   "source": [
    "print ([2, 3] + [4, 6])\n",
    "p = [2, 5]\n",
    "a = [3, 9]\n",
    "p.append(a)\n",
    "print(p)\n",
    "print (p + [4])\n",
    "len(p)\n"
   ]
  },
  {
   "cell_type": "code",
   "execution_count": 35,
   "metadata": {},
   "outputs": [
    {
     "data": {
      "text/plain": [
       "12"
      ]
     },
     "execution_count": 35,
     "metadata": {},
     "output_type": "execute_result"
    }
   ],
   "source": [
    "def sumlista(lista):\n",
    "    r = 0\n",
    "    for num in lista:\n",
    "        r += num\n",
    "    return r\n",
    "sumlista([1, 7, 4])\n"
   ]
  },
  {
   "cell_type": "code",
   "execution_count": 53,
   "metadata": {},
   "outputs": [
    {
     "name": "stdout",
     "output_type": "stream",
     "text": [
      "0\n",
      "2\n",
      "0\n",
      "2\n"
     ]
    }
   ],
   "source": [
    "def measureUdacity(lista):\n",
    "    l = []\n",
    "    for element in lista:\n",
    "        l = l + list(element)\n",
    "    return l.count('U')\n",
    "\n",
    "\n",
    "print(measureUdacity(['Dave', 'Sebas', 'katy']))\n",
    "print(measureUdacity(['Umika', 'Umberto', 'unpo']))\n",
    "\n",
    "#el objetivo era obtener todas las palabras que empezaban por U mayusculas, se ha conseguido pero\n",
    "#para pasar todos los posibles casos tests lo suyo era este codigo de abajo\n",
    "\n",
    "def measure_udacity(input):\n",
    "    count = 0\n",
    "    for elemento in input:\n",
    "        if elemento[0] == 'U':\n",
    "            count = count + 1\n",
    "    return count\n",
    "\n",
    "\n",
    "print(measure_udacity(['Dave', 'Sebas', 'katy']))\n",
    "print(measure_udacity(['Umika', 'Umberto', 'unpo']))\n"
   ]
  },
  {
   "cell_type": "code",
   "execution_count": 43,
   "metadata": {},
   "outputs": [
    {
     "data": {
      "text/plain": [
       "1"
      ]
     },
     "execution_count": 43,
     "metadata": {},
     "output_type": "execute_result"
    }
   ],
   "source": [
    "['Umika', 'Umberto', 'unpo'].count('Umika')"
   ]
  },
  {
   "cell_type": "code",
   "execution_count": 37,
   "metadata": {},
   "outputs": [
    {
     "data": {
      "text/plain": [
       "[]"
      ]
     },
     "execution_count": 37,
     "metadata": {},
     "output_type": "execute_result"
    }
   ],
   "source": [
    "L = ['a', 'b', 'c']\n",
    "#L.index('b')\n",
    "#L.copy()\n",
    "#L.pop(0)\n",
    "#L.remove('c')\n",
    "#del L[0:2]\n",
    "#L\n",
    "#P = [x**2 for x in range(5)]\n",
    "#P\n",
    "#list(map(ord, 'spam')) no entenc que fa\n",
    "L.clear()\n",
    "L"
   ]
  },
  {
   "cell_type": "code",
   "execution_count": 47,
   "metadata": {},
   "outputs": [
    {
     "data": {
      "text/plain": [
       "(1, 2)"
      ]
     },
     "execution_count": 47,
     "metadata": {},
     "output_type": "execute_result"
    }
   ],
   "source": [
    "L = [5,4,3,2,1]\n",
    "P = [1,2,3,4,1]\n",
    "j = [1,2,3,-4,0]\n",
    "L[4], L[3]"
   ]
  },
  {
   "cell_type": "code",
   "execution_count": 35,
   "metadata": {},
   "outputs": [
    {
     "data": {
      "text/plain": [
       "[1, 2, 3]"
      ]
     },
     "execution_count": 35,
     "metadata": {},
     "output_type": "execute_result"
    }
   ],
   "source": [
    "def first_n_smallest(arr, n):\n",
    "    arr.sort()\n",
    "    return arr[:n]\n",
    "\n",
    "\n",
    "first_n_smallest([5,4,3,2,1],3)"
   ]
  },
  {
   "cell_type": "code",
   "execution_count": null,
   "metadata": {},
   "outputs": [],
   "source": [
    "def first_n_smallest(arr, n):\n",
    "    arr.sort()\n",
    "    L = arr[:n]\n",
    "    acum = []\n",
    "    for num in L:\n",
    "        pos = arr.index(num)\n",
    "        acum = acum + [pos]\n",
    "        \n",
    "\n",
    "first_n_smallest([5,4,3,2,1],3)"
   ]
  }
 ],
 "metadata": {
  "interpreter": {
   "hash": "caaa11bafb666adcceae752c678ed47f2c110c1f32e55af750e2c9564a869d5b"
  },
  "kernelspec": {
   "display_name": "Python 3.9.6 64-bit",
   "name": "python3"
  },
  "language_info": {
   "codemirror_mode": {
    "name": "ipython",
    "version": 3
   },
   "file_extension": ".py",
   "mimetype": "text/x-python",
   "name": "python",
   "nbconvert_exporter": "python",
   "pygments_lexer": "ipython3",
   "version": "3.9.6"
  },
  "orig_nbformat": 4
 },
 "nbformat": 4,
 "nbformat_minor": 2
}
